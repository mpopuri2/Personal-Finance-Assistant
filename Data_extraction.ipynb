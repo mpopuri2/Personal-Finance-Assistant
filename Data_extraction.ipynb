{
 "cells": [
  {
   "cell_type": "code",
   "execution_count": 1,
   "id": "0e163804-fa94-4b54-92c4-258d62bbfd3e",
   "metadata": {},
   "outputs": [],
   "source": [
    "import os\n",
    "import pandas as pd"
   ]
  },
  {
   "cell_type": "code",
   "execution_count": 2,
   "id": "26ea4485-e18e-47b2-8bf8-55902c153136",
   "metadata": {},
   "outputs": [
    {
     "data": {
      "text/plain": [
       "140"
      ]
     },
     "execution_count": 2,
     "metadata": {},
     "output_type": "execute_result"
    }
   ],
   "source": [
    "path = \"../Data/Amazon/archive/\"\n",
    "files =  os.listdir(path)\n",
    "len(files)"
   ]
  },
  {
   "cell_type": "code",
   "execution_count": 6,
   "id": "0c68c81f-0fab-4ad3-abd1-a97323ed371f",
   "metadata": {
    "scrolled": true
   },
   "outputs": [],
   "source": [
    "save_path = \"../Data/Amazon/Modified_datasets/\"\n",
    "data = pd.DataFrame({})\n",
    "for file_name in files:\n",
    "    data_ = pd.read_csv(path+file_name, usecols= [\"name\", \"main_category\",\"sub_category\"])\n",
    "    data = pd.concat([data,data_])\n",
    "    data_.to_csv(save_path+file_name,index= False)"
   ]
  },
  {
   "cell_type": "code",
   "execution_count": 7,
   "id": "53afe862-6a1b-4256-99ed-035574c41c10",
   "metadata": {
    "scrolled": true
   },
   "outputs": [
    {
     "name": "stdout",
     "output_type": "stream",
     "text": [
      "<class 'pandas.core.frame.DataFrame'>\n",
      "Index: 1103170 entries, 0 to 1103\n",
      "Data columns (total 3 columns):\n",
      " #   Column         Non-Null Count    Dtype \n",
      "---  ------         --------------    ----- \n",
      " 0   name           1103170 non-null  object\n",
      " 1   main_category  1103170 non-null  object\n",
      " 2   sub_category   1103170 non-null  object\n",
      "dtypes: object(3)\n",
      "memory usage: 33.7+ MB\n"
     ]
    }
   ],
   "source": [
    "data.info()"
   ]
  },
  {
   "cell_type": "code",
   "execution_count": 13,
   "id": "08ed9060-b344-4d76-aa9f-045af08eaa18",
   "metadata": {},
   "outputs": [],
   "source": [
    "data = data.sample(frac=1).reset_index(drop = True)"
   ]
  },
  {
   "cell_type": "code",
   "execution_count": 14,
   "id": "7f444ebc-cbdf-401a-8122-1303857a03e5",
   "metadata": {},
   "outputs": [],
   "source": [
    "data.to_csv(\"../Data/Amazon/full_dataset.csv\",index = False)"
   ]
  },
  {
   "cell_type": "code",
   "execution_count": 17,
   "id": "28ca678f-35e5-43e6-a568-d3d0870f1e6f",
   "metadata": {
    "scrolled": true
   },
   "outputs": [
    {
     "name": "stdout",
     "output_type": "stream",
     "text": [
      "<class 'pandas.core.frame.DataFrame'>\n",
      "RangeIndex: 1103170 entries, 0 to 1103169\n",
      "Data columns (total 3 columns):\n",
      " #   Column         Non-Null Count    Dtype \n",
      "---  ------         --------------    ----- \n",
      " 0   name           1103170 non-null  object\n",
      " 1   main_category  1103170 non-null  object\n",
      " 2   sub_category   1103170 non-null  object\n",
      "dtypes: object(3)\n",
      "memory usage: 25.2+ MB\n"
     ]
    }
   ],
   "source": [
    "data.info()"
   ]
  },
  {
   "cell_type": "code",
   "execution_count": null,
   "id": "5adbeddd-d9dc-4895-b0e0-65dac03cc768",
   "metadata": {},
   "outputs": [],
   "source": []
  }
 ],
 "metadata": {
  "kernelspec": {
   "display_name": "Python 3 (ipykernel)",
   "language": "python",
   "name": "python3"
  },
  "language_info": {
   "codemirror_mode": {
    "name": "ipython",
    "version": 3
   },
   "file_extension": ".py",
   "mimetype": "text/x-python",
   "name": "python",
   "nbconvert_exporter": "python",
   "pygments_lexer": "ipython3",
   "version": "3.13.5"
  }
 },
 "nbformat": 4,
 "nbformat_minor": 5
}
