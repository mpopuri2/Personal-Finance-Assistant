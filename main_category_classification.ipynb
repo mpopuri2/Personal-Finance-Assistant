{
 "cells": [
  {
   "cell_type": "code",
   "execution_count": 1,
   "id": "aa420311-8aec-49df-abca-8881f90895da",
   "metadata": {},
   "outputs": [],
   "source": [
    "import pandas as pd\n",
    "import seaborn as sns"
   ]
  },
  {
   "cell_type": "code",
   "execution_count": 2,
   "id": "ac235310-6b95-4bd9-91c5-d6a23424b0a6",
   "metadata": {},
   "outputs": [
    {
     "data": {
      "text/html": [
       "<div>\n",
       "<style scoped>\n",
       "    .dataframe tbody tr th:only-of-type {\n",
       "        vertical-align: middle;\n",
       "    }\n",
       "\n",
       "    .dataframe tbody tr th {\n",
       "        vertical-align: top;\n",
       "    }\n",
       "\n",
       "    .dataframe thead th {\n",
       "        text-align: right;\n",
       "    }\n",
       "</style>\n",
       "<table border=\"1\" class=\"dataframe\">\n",
       "  <thead>\n",
       "    <tr style=\"text-align: right;\">\n",
       "      <th></th>\n",
       "      <th>name</th>\n",
       "      <th>main_category</th>\n",
       "      <th>sub_category</th>\n",
       "    </tr>\n",
       "  </thead>\n",
       "  <tbody>\n",
       "    <tr>\n",
       "      <th>0</th>\n",
       "      <td>TRIPIN Brass Black and Silver Kurta Buttons wi...</td>\n",
       "      <td>accessories</td>\n",
       "      <td>Fashion &amp; Silver Jewellery</td>\n",
       "    </tr>\n",
       "    <tr>\n",
       "      <th>1</th>\n",
       "      <td>Colorsole® Domestic RO Booster Pump Head for 7...</td>\n",
       "      <td>appliances</td>\n",
       "      <td>All Appliances</td>\n",
       "    </tr>\n",
       "    <tr>\n",
       "      <th>2</th>\n",
       "      <td>Nike Men's Rosherun Nm Br Lt Retro/White/Volt ...</td>\n",
       "      <td>stores</td>\n",
       "      <td>Sportswear</td>\n",
       "    </tr>\n",
       "    <tr>\n",
       "      <th>3</th>\n",
       "      <td>Ahen Black Thread Bracelet Stylish Adjustable ...</td>\n",
       "      <td>accessories</td>\n",
       "      <td>Jewellery</td>\n",
       "    </tr>\n",
       "    <tr>\n",
       "      <th>4</th>\n",
       "      <td>imee 60cm (24 inch) Premium Series Normal LED ...</td>\n",
       "      <td>tv, audio &amp; cameras</td>\n",
       "      <td>Televisions</td>\n",
       "    </tr>\n",
       "  </tbody>\n",
       "</table>\n",
       "</div>"
      ],
      "text/plain": [
       "                                                name        main_category  \\\n",
       "0  TRIPIN Brass Black and Silver Kurta Buttons wi...          accessories   \n",
       "1  Colorsole® Domestic RO Booster Pump Head for 7...           appliances   \n",
       "2  Nike Men's Rosherun Nm Br Lt Retro/White/Volt ...               stores   \n",
       "3  Ahen Black Thread Bracelet Stylish Adjustable ...          accessories   \n",
       "4  imee 60cm (24 inch) Premium Series Normal LED ...  tv, audio & cameras   \n",
       "\n",
       "                 sub_category  \n",
       "0  Fashion & Silver Jewellery  \n",
       "1              All Appliances  \n",
       "2                  Sportswear  \n",
       "3                   Jewellery  \n",
       "4                 Televisions  "
      ]
     },
     "execution_count": 2,
     "metadata": {},
     "output_type": "execute_result"
    }
   ],
   "source": [
    "data = pd.read_csv(\"../Data/Amazon/full_dataset.csv\")\n",
    "data.head()"
   ]
  },
  {
   "cell_type": "code",
   "execution_count": 3,
   "id": "5543548a-5b26-42f6-bc57-c0f98e6471b2",
   "metadata": {},
   "outputs": [
    {
     "name": "stdout",
     "output_type": "stream",
     "text": [
      "<class 'pandas.core.frame.DataFrame'>\n",
      "RangeIndex: 1103170 entries, 0 to 1103169\n",
      "Data columns (total 3 columns):\n",
      " #   Column         Non-Null Count    Dtype \n",
      "---  ------         --------------    ----- \n",
      " 0   name           1103170 non-null  object\n",
      " 1   main_category  1103170 non-null  object\n",
      " 2   sub_category   1103170 non-null  object\n",
      "dtypes: object(3)\n",
      "memory usage: 25.2+ MB\n"
     ]
    }
   ],
   "source": [
    "data.info()"
   ]
  },
  {
   "cell_type": "code",
   "execution_count": 4,
   "id": "11a33e51-e150-48d6-9b08-4868e4300ab3",
   "metadata": {},
   "outputs": [
    {
     "data": {
      "text/plain": [
       "name             396210\n",
       "main_category        20\n",
       "sub_category        112\n",
       "dtype: int64"
      ]
     },
     "execution_count": 4,
     "metadata": {},
     "output_type": "execute_result"
    }
   ],
   "source": [
    "data.nunique()"
   ]
  },
  {
   "cell_type": "code",
   "execution_count": 5,
   "id": "4ad0d693-27c1-4fb1-8bc2-34bb38f4639e",
   "metadata": {},
   "outputs": [
    {
     "data": {
      "text/plain": [
       "np.int64(642778)"
      ]
     },
     "execution_count": 5,
     "metadata": {},
     "output_type": "execute_result"
    }
   ],
   "source": [
    "data.duplicated().sum()"
   ]
  },
  {
   "cell_type": "code",
   "execution_count": 6,
   "id": "c6a0b7ab-f2ea-40b1-a168-374aeaeffa08",
   "metadata": {},
   "outputs": [
    {
     "data": {
      "text/html": [
       "<div>\n",
       "<style scoped>\n",
       "    .dataframe tbody tr th:only-of-type {\n",
       "        vertical-align: middle;\n",
       "    }\n",
       "\n",
       "    .dataframe tbody tr th {\n",
       "        vertical-align: top;\n",
       "    }\n",
       "\n",
       "    .dataframe thead th {\n",
       "        text-align: right;\n",
       "    }\n",
       "</style>\n",
       "<table border=\"1\" class=\"dataframe\">\n",
       "  <thead>\n",
       "    <tr style=\"text-align: right;\">\n",
       "      <th></th>\n",
       "      <th>name</th>\n",
       "      <th>main_category</th>\n",
       "      <th>sub_category</th>\n",
       "    </tr>\n",
       "  </thead>\n",
       "  <tbody>\n",
       "    <tr>\n",
       "      <th>398</th>\n",
       "      <td>Malabar Gold &amp; Diamonds 22k (916) Yellow Gold ...</td>\n",
       "      <td>accessories</td>\n",
       "      <td>Gold &amp; Diamond Jewellery</td>\n",
       "    </tr>\n",
       "    <tr>\n",
       "      <th>437</th>\n",
       "      <td>PC Jeweller 22k (916) Yellow Gold Ring for Women</td>\n",
       "      <td>accessories</td>\n",
       "      <td>Gold &amp; Diamond Jewellery</td>\n",
       "    </tr>\n",
       "    <tr>\n",
       "      <th>552</th>\n",
       "      <td>Avsar 18k (750) Yellow Gold and Diamond Ring f...</td>\n",
       "      <td>accessories</td>\n",
       "      <td>Gold &amp; Diamond Jewellery</td>\n",
       "    </tr>\n",
       "    <tr>\n",
       "      <th>706</th>\n",
       "      <td>Candere by Kalyan Jewellers 18k (750) 22k (916...</td>\n",
       "      <td>accessories</td>\n",
       "      <td>Gold &amp; Diamond Jewellery</td>\n",
       "    </tr>\n",
       "    <tr>\n",
       "      <th>751</th>\n",
       "      <td>Zeya Yellow Gold Ring</td>\n",
       "      <td>accessories</td>\n",
       "      <td>Gold &amp; Diamond Jewellery</td>\n",
       "    </tr>\n",
       "    <tr>\n",
       "      <th>...</th>\n",
       "      <td>...</td>\n",
       "      <td>...</td>\n",
       "      <td>...</td>\n",
       "    </tr>\n",
       "    <tr>\n",
       "      <th>1103165</th>\n",
       "      <td>Nishi® Waterproof Backpack, Girls &amp; Women Styl...</td>\n",
       "      <td>accessories</td>\n",
       "      <td>Bags &amp; Luggage</td>\n",
       "    </tr>\n",
       "    <tr>\n",
       "      <th>1103166</th>\n",
       "      <td>FEROC XEGA Rubber Cricket Shoes (8, Blue)</td>\n",
       "      <td>men's shoes</td>\n",
       "      <td>Sports Shoes</td>\n",
       "    </tr>\n",
       "    <tr>\n",
       "      <th>1103167</th>\n",
       "      <td>Sasitrends Rhodium Silver Plated Leaf Shaped A...</td>\n",
       "      <td>accessories</td>\n",
       "      <td>Fashion &amp; Silver Jewellery</td>\n",
       "    </tr>\n",
       "    <tr>\n",
       "      <th>1103168</th>\n",
       "      <td>Duke Stardust Men Slim Fit Stretchable Jeans</td>\n",
       "      <td>men's clothing</td>\n",
       "      <td>Jeans</td>\n",
       "    </tr>\n",
       "    <tr>\n",
       "      <th>1103169</th>\n",
       "      <td>Campus Men's DISC Running Shoes</td>\n",
       "      <td>men's shoes</td>\n",
       "      <td>Sports Shoes</td>\n",
       "    </tr>\n",
       "  </tbody>\n",
       "</table>\n",
       "<p>642778 rows × 3 columns</p>\n",
       "</div>"
      ],
      "text/plain": [
       "                                                      name   main_category  \\\n",
       "398      Malabar Gold & Diamonds 22k (916) Yellow Gold ...     accessories   \n",
       "437       PC Jeweller 22k (916) Yellow Gold Ring for Women     accessories   \n",
       "552      Avsar 18k (750) Yellow Gold and Diamond Ring f...     accessories   \n",
       "706      Candere by Kalyan Jewellers 18k (750) 22k (916...     accessories   \n",
       "751                                  Zeya Yellow Gold Ring     accessories   \n",
       "...                                                    ...             ...   \n",
       "1103165  Nishi® Waterproof Backpack, Girls & Women Styl...     accessories   \n",
       "1103166          FEROC XEGA Rubber Cricket Shoes (8, Blue)     men's shoes   \n",
       "1103167  Sasitrends Rhodium Silver Plated Leaf Shaped A...     accessories   \n",
       "1103168       Duke Stardust Men Slim Fit Stretchable Jeans  men's clothing   \n",
       "1103169                    Campus Men's DISC Running Shoes     men's shoes   \n",
       "\n",
       "                       sub_category  \n",
       "398        Gold & Diamond Jewellery  \n",
       "437        Gold & Diamond Jewellery  \n",
       "552        Gold & Diamond Jewellery  \n",
       "706        Gold & Diamond Jewellery  \n",
       "751        Gold & Diamond Jewellery  \n",
       "...                             ...  \n",
       "1103165              Bags & Luggage  \n",
       "1103166                Sports Shoes  \n",
       "1103167  Fashion & Silver Jewellery  \n",
       "1103168                       Jeans  \n",
       "1103169                Sports Shoes  \n",
       "\n",
       "[642778 rows x 3 columns]"
      ]
     },
     "execution_count": 6,
     "metadata": {},
     "output_type": "execute_result"
    }
   ],
   "source": [
    "data[data.duplicated()]"
   ]
  },
  {
   "cell_type": "code",
   "execution_count": 7,
   "id": "7fd0c0f5-16cd-4952-ba6a-57f24863a9d2",
   "metadata": {},
   "outputs": [],
   "source": [
    "data.drop_duplicates(inplace = True)"
   ]
  },
  {
   "cell_type": "code",
   "execution_count": 8,
   "id": "637d1341-5a39-4b45-894a-6692d1237789",
   "metadata": {},
   "outputs": [
    {
     "data": {
      "text/plain": [
       "main_category\n",
       "accessories                92985\n",
       "women's clothing           65854\n",
       "tv, audio & cameras        63818\n",
       "men's shoes                48808\n",
       "men's clothing             44001\n",
       "appliances                 31168\n",
       "stores                     27405\n",
       "home & kitchen             14139\n",
       "kids' fashion              12254\n",
       "sports & fitness           12179\n",
       "bags & luggage              9990\n",
       "beauty & health             9855\n",
       "car & motorbike             7008\n",
       "toys & baby products        5788\n",
       "women's shoes               5095\n",
       "industrial supplies         4093\n",
       "grocery & gourmet foods     3256\n",
       "pet supplies                1594\n",
       "music                       1078\n",
       "home, kitchen, pets           24\n",
       "Name: count, dtype: int64"
      ]
     },
     "execution_count": 8,
     "metadata": {},
     "output_type": "execute_result"
    }
   ],
   "source": [
    "data[\"main_category\"].value_counts()"
   ]
  },
  {
   "cell_type": "markdown",
   "id": "555bc060-b5ab-4d42-8487-848509922ee6",
   "metadata": {},
   "source": [
    "# Model 1 -> Using name(notes) and main category columns as Training and test data.\n",
    "##### X value(independent variable) = name(notes)\n",
    "##### Y value(dependent variable) = main category\n",
    "##### We classify the categories based on their names. There are around 20 category values and around 1 million+ data tuples. We divide the data into the train set, the validation set, and the test set. And then we use metrics to evaluate the model."
   ]
  },
  {
   "cell_type": "code",
   "execution_count": 9,
   "id": "96f11f77-fafd-4498-9368-089301dac0ed",
   "metadata": {},
   "outputs": [],
   "source": [
    "from sklearn.model_selection import train_test_split\n",
    "from sklearn.feature_extraction.text import TfidfVectorizer\n"
   ]
  },
  {
   "cell_type": "code",
   "execution_count": 10,
   "id": "77579805-aafe-4ffa-90e3-3588c6ebd580",
   "metadata": {},
   "outputs": [
    {
     "data": {
      "text/html": [
       "<div>\n",
       "<style scoped>\n",
       "    .dataframe tbody tr th:only-of-type {\n",
       "        vertical-align: middle;\n",
       "    }\n",
       "\n",
       "    .dataframe tbody tr th {\n",
       "        vertical-align: top;\n",
       "    }\n",
       "\n",
       "    .dataframe thead th {\n",
       "        text-align: right;\n",
       "    }\n",
       "</style>\n",
       "<table border=\"1\" class=\"dataframe\">\n",
       "  <thead>\n",
       "    <tr style=\"text-align: right;\">\n",
       "      <th></th>\n",
       "      <th>name</th>\n",
       "      <th>main_category</th>\n",
       "    </tr>\n",
       "  </thead>\n",
       "  <tbody>\n",
       "    <tr>\n",
       "      <th>0</th>\n",
       "      <td>TRIPIN Brass Black and Silver Kurta Buttons wi...</td>\n",
       "      <td>accessories</td>\n",
       "    </tr>\n",
       "    <tr>\n",
       "      <th>1</th>\n",
       "      <td>Colorsole® Domestic RO Booster Pump Head for 7...</td>\n",
       "      <td>appliances</td>\n",
       "    </tr>\n",
       "    <tr>\n",
       "      <th>2</th>\n",
       "      <td>Nike Men's Rosherun Nm Br Lt Retro/White/Volt ...</td>\n",
       "      <td>stores</td>\n",
       "    </tr>\n",
       "    <tr>\n",
       "      <th>3</th>\n",
       "      <td>Ahen Black Thread Bracelet Stylish Adjustable ...</td>\n",
       "      <td>accessories</td>\n",
       "    </tr>\n",
       "    <tr>\n",
       "      <th>4</th>\n",
       "      <td>imee 60cm (24 inch) Premium Series Normal LED ...</td>\n",
       "      <td>tv, audio &amp; cameras</td>\n",
       "    </tr>\n",
       "  </tbody>\n",
       "</table>\n",
       "</div>"
      ],
      "text/plain": [
       "                                                name        main_category\n",
       "0  TRIPIN Brass Black and Silver Kurta Buttons wi...          accessories\n",
       "1  Colorsole® Domestic RO Booster Pump Head for 7...           appliances\n",
       "2  Nike Men's Rosherun Nm Br Lt Retro/White/Volt ...               stores\n",
       "3  Ahen Black Thread Bracelet Stylish Adjustable ...          accessories\n",
       "4  imee 60cm (24 inch) Premium Series Normal LED ...  tv, audio & cameras"
      ]
     },
     "execution_count": 10,
     "metadata": {},
     "output_type": "execute_result"
    }
   ],
   "source": [
    "new_data = data.iloc[:,:2]\n",
    "new_data.head()"
   ]
  },
  {
   "cell_type": "code",
   "execution_count": 11,
   "id": "a41c8c6b-42a7-44cf-9504-fbf7013f9fc5",
   "metadata": {},
   "outputs": [],
   "source": [
    "train_set_x,test_set_x,train_set_y,test_set_y = train_test_split(new_data[\"name\"],new_data[\"main_category\"],test_size = 0.2, random_state=42)"
   ]
  },
  {
   "cell_type": "code",
   "execution_count": 12,
   "id": "a36a1312-c74b-4aab-ab2d-4d51a3452075",
   "metadata": {},
   "outputs": [
    {
     "data": {
      "text/plain": [
       "((368313,), (92079,), (368313,), (92079,))"
      ]
     },
     "execution_count": 12,
     "metadata": {},
     "output_type": "execute_result"
    }
   ],
   "source": [
    "train_set_x.shape,test_set_x.shape,train_set_y.shape,test_set_y.shape"
   ]
  },
  {
   "cell_type": "code",
   "execution_count": 13,
   "id": "87950fcb-89a7-4b18-b23f-c114ccfbd5a1",
   "metadata": {},
   "outputs": [],
   "source": [
    "x_train,x_val,y_train,y_val = train_test_split(train_set_x,train_set_y,test_size=0.3, random_state=42)"
   ]
  },
  {
   "cell_type": "code",
   "execution_count": 14,
   "id": "f033d0d3-d5de-4a64-a53d-9e8b47819139",
   "metadata": {},
   "outputs": [
    {
     "data": {
      "text/plain": [
       "((257819,), (110494,), (257819,), (110494,))"
      ]
     },
     "execution_count": 14,
     "metadata": {},
     "output_type": "execute_result"
    }
   ],
   "source": [
    "x_train.shape, x_val.shape, y_train.shape, y_val.shape"
   ]
  },
  {
   "cell_type": "code",
   "execution_count": 26,
   "id": "055ec37c-3620-452f-a5e3-a1ddd1b7359c",
   "metadata": {
    "scrolled": true
   },
   "outputs": [],
   "source": [
    "tfidf = TfidfVectorizer(max_features=200000, ngram_range=(1,3), sublinear_tf=True, min_df=3, analyzer=\"word\")\n",
    "x_train_vect = tfidf.fit_transform(x_train)\n",
    "x_val_vect = tfidf.transform(x_val)"
   ]
  },
  {
   "cell_type": "code",
   "execution_count": 27,
   "id": "201ffe72-ae60-42d1-be91-47fb9f972140",
   "metadata": {},
   "outputs": [],
   "source": [
    "from sklearn.linear_model import SGDClassifier\n",
    "\n",
    "sgd = SGDClassifier(\n",
    "    loss=\"hinge\",\n",
    "    learning_rate= \"optimal\",\n",
    "    eta0=0.1,\n",
    "    penalty = \"elasticnet\",\n",
    "    l1_ratio=0.25,\n",
    "    alpha = 1e-5,\n",
    "    validation_fraction=0.2,\n",
    "    early_stopping=True,\n",
    "    class_weight=\"balanced\",\n",
    "    fit_intercept=True,\n",
    "    tol=1e-3,\n",
    "    shuffle=True,\n",
    "    max_iter=20000,\n",
    "    warm_start=False,\n",
    "    random_state=42,\n",
    "    n_jobs=-1)"
   ]
  },
  {
   "cell_type": "code",
   "execution_count": 28,
   "id": "28380518-9e9d-4044-9c55-65469e8b3d74",
   "metadata": {},
   "outputs": [],
   "source": [
    "from sklearn.pipeline import make_pipeline\n",
    "clf = make_pipeline(tfidf,sgd)"
   ]
  },
  {
   "cell_type": "code",
   "execution_count": 31,
   "id": "2a1b1134-0f26-46ff-b763-f11ca2fa06dd",
   "metadata": {
    "scrolled": true
   },
   "outputs": [
    {
     "name": "stderr",
     "output_type": "stream",
     "text": [
      "Exception ignored in: <function ResourceTracker.__del__ at 0x107865bc0>\n",
      "Traceback (most recent call last):\n",
      "  File \"/opt/anaconda3/lib/python3.13/multiprocessing/resource_tracker.py\", line 82, in __del__\n",
      "  File \"/opt/anaconda3/lib/python3.13/multiprocessing/resource_tracker.py\", line 91, in _stop\n",
      "  File \"/opt/anaconda3/lib/python3.13/multiprocessing/resource_tracker.py\", line 116, in _stop_locked\n",
      "ChildProcessError: [Errno 10] No child processes\n"
     ]
    },
    {
     "name": "stdout",
     "output_type": "stream",
     "text": [
      "CV Accuracy: 0.8726470835881079 [0.87315378 0.87369679 0.87130406 0.87149412 0.87437213 0.87149412\n",
      " 0.87301458]\n"
     ]
    },
    {
     "name": "stderr",
     "output_type": "stream",
     "text": [
      "Exception ignored in: <function ResourceTracker.__del__ at 0x102a59bc0>\n",
      "Traceback (most recent call last):\n",
      "  File \"/opt/anaconda3/lib/python3.13/multiprocessing/resource_tracker.py\", line 82, in __del__\n",
      "  File \"/opt/anaconda3/lib/python3.13/multiprocessing/resource_tracker.py\", line 91, in _stop\n",
      "  File \"/opt/anaconda3/lib/python3.13/multiprocessing/resource_tracker.py\", line 116, in _stop_locked\n",
      "ChildProcessError: [Errno 10] No child processes\n",
      "Exception ignored in: <function ResourceTracker.__del__ at 0x1075e9bc0>\n",
      "Traceback (most recent call last):\n",
      "  File \"/opt/anaconda3/lib/python3.13/multiprocessing/resource_tracker.py\", line 82, in __del__\n",
      "  File \"/opt/anaconda3/lib/python3.13/multiprocessing/resource_tracker.py\", line 91, in _stop\n",
      "  File \"/opt/anaconda3/lib/python3.13/multiprocessing/resource_tracker.py\", line 116, in _stop_locked\n",
      "ChildProcessError: [Errno 10] No child processes\n",
      "Exception ignored in: <function ResourceTracker.__del__ at 0x104e7dbc0>\n",
      "Traceback (most recent call last):\n",
      "  File \"/opt/anaconda3/lib/python3.13/multiprocessing/resource_tracker.py\", line 82, in __del__\n",
      "  File \"/opt/anaconda3/lib/python3.13/multiprocessing/resource_tracker.py\", line 91, in _stop\n",
      "  File \"/opt/anaconda3/lib/python3.13/multiprocessing/resource_tracker.py\", line 116, in _stop_locked\n",
      "ChildProcessError: [Errno 10] No child processes\n",
      "Exception ignored in: <function ResourceTracker.__del__ at 0x1031fdbc0>\n",
      "Traceback (most recent call last):\n",
      "  File \"/opt/anaconda3/lib/python3.13/multiprocessing/resource_tracker.py\", line 82, in __del__\n",
      "  File \"/opt/anaconda3/lib/python3.13/multiprocessing/resource_tracker.py\", line 91, in _stop\n",
      "  File \"/opt/anaconda3/lib/python3.13/multiprocessing/resource_tracker.py\", line 116, in _stop_locked\n",
      "ChildProcessError: [Errno 10] No child processes\n",
      "Exception ignored in: <function ResourceTracker.__del__ at 0x1041a1bc0>\n",
      "Traceback (most recent call last):\n",
      "  File \"/opt/anaconda3/lib/python3.13/multiprocessing/resource_tracker.py\", line 82, in __del__\n",
      "  File \"/opt/anaconda3/lib/python3.13/multiprocessing/resource_tracker.py\", line 91, in _stop\n",
      "  File \"/opt/anaconda3/lib/python3.13/multiprocessing/resource_tracker.py\", line 116, in _stop_locked\n",
      "ChildProcessError: [Errno 10] No child processes\n",
      "Exception ignored in: <function ResourceTracker.__del__ at 0x1059e5bc0>\n",
      "Traceback (most recent call last):\n",
      "  File \"/opt/anaconda3/lib/python3.13/multiprocessing/resource_tracker.py\", line 82, in __del__\n",
      "  File \"/opt/anaconda3/lib/python3.13/multiprocessing/resource_tracker.py\", line 91, in _stop\n",
      "  File \"/opt/anaconda3/lib/python3.13/multiprocessing/resource_tracker.py\", line 116, in _stop_locked\n",
      "ChildProcessError: [Errno 10] No child processes\n",
      "Exception ignored in: <function ResourceTracker.__del__ at 0x104a6dbc0>\n",
      "Traceback (most recent call last):\n",
      "  File \"/opt/anaconda3/lib/python3.13/multiprocessing/resource_tracker.py\", line 82, in __del__\n",
      "  File \"/opt/anaconda3/lib/python3.13/multiprocessing/resource_tracker.py\", line 91, in _stop\n",
      "  File \"/opt/anaconda3/lib/python3.13/multiprocessing/resource_tracker.py\", line 116, in _stop_locked\n",
      "ChildProcessError: [Errno 10] No child processes\n",
      "Exception ignored in: <function ResourceTracker.__del__ at 0x107665bc0>\n",
      "Traceback (most recent call last):\n",
      "  File \"/opt/anaconda3/lib/python3.13/multiprocessing/resource_tracker.py\", line 82, in __del__\n",
      "  File \"/opt/anaconda3/lib/python3.13/multiprocessing/resource_tracker.py\", line 91, in _stop\n",
      "  File \"/opt/anaconda3/lib/python3.13/multiprocessing/resource_tracker.py\", line 116, in _stop_locked\n",
      "ChildProcessError: [Errno 10] No child processes\n",
      "Exception ignored in: <function ResourceTracker.__del__ at 0x107ea1bc0>\n",
      "Traceback (most recent call last):\n",
      "  File \"/opt/anaconda3/lib/python3.13/multiprocessing/resource_tracker.py\", line 82, in __del__\n",
      "  File \"/opt/anaconda3/lib/python3.13/multiprocessing/resource_tracker.py\", line 91, in _stop\n",
      "  File \"/opt/anaconda3/lib/python3.13/multiprocessing/resource_tracker.py\", line 116, in _stop_locked\n",
      "ChildProcessError: [Errno 10] No child processes\n"
     ]
    }
   ],
   "source": [
    "from sklearn.model_selection import StratifiedKFold, cross_val_score\n",
    "skf = StratifiedKFold(n_splits=7, random_state=42, shuffle=True)\n",
    "cvs = cross_val_score(cv=skf,estimator=clf, scoring=\"accuracy\",n_jobs=-1,X=x_train,y=y_train,verbose=False)\n",
    "print(\"CV Accuracy:\", cvs.mean(), cvs)"
   ]
  },
  {
   "cell_type": "code",
   "execution_count": null,
   "id": "83845413-2a13-4895-937f-0fa9f1c99bc5",
   "metadata": {},
   "outputs": [],
   "source": [
    "from sklearn.metrics import accuracy_score, classification_report, confusion_matrix\n",
    "y_val_pred = sgd.predict(x_val_vect)\n",
    "print(accuracy_score(y_val,y_val_pred))\n",
    "print(classification_report(y_val, y_val_pred))"
   ]
  },
  {
   "cell_type": "code",
   "execution_count": null,
   "id": "f724f2ae-2ae0-402e-a135-5dd291de5cf1",
   "metadata": {},
   "outputs": [],
   "source": [
    "test_set_x_vect = tfidf.transform(test_set_x)\n",
    "y_test_pred = svm.predict(test_set_x_vect)"
   ]
  },
  {
   "cell_type": "code",
   "execution_count": null,
   "id": "30e5f208-aac9-489c-81d6-d14d19c09061",
   "metadata": {},
   "outputs": [],
   "source": [
    "print(accuracy_score(test_set_y,y_test_pred))\n",
    "print(classification_report(test_set_y, y_test_pred))"
   ]
  },
  {
   "cell_type": "code",
   "execution_count": null,
   "id": "b0d33a7e-d40d-42b4-9188-2883d74f09ce",
   "metadata": {},
   "outputs": [],
   "source": [
    "cm = confusion_matrix(test_set_y, y_test_pred)\n",
    "sns.heatmap(cm, cmap=\"Blues\")"
   ]
  },
  {
   "cell_type": "code",
   "execution_count": null,
   "id": "65f6a95c-a0b9-4556-bbc4-da76da857c2f",
   "metadata": {},
   "outputs": [],
   "source": [
    "import joblib\n",
    "joblib.dump(svm, \"svc_model.pkl\")"
   ]
  },
  {
   "cell_type": "code",
   "execution_count": null,
   "id": "6abe9420-a60b-423a-b7ce-e9c10f08580d",
   "metadata": {},
   "outputs": [],
   "source": [
    "joblib.dump(tfidf,\"tfidf_vectorizer.pkl\")"
   ]
  },
  {
   "cell_type": "code",
   "execution_count": null,
   "id": "e91d5fd3-a8a3-4b47-b14c-c05af413a191",
   "metadata": {},
   "outputs": [],
   "source": [
    "load_svm = joblib.load(\"svc_model.pkl\")\n",
    "load_vect = joblib.load(\"tfidf_vectorizer.pkl\")\n",
    "\n",
    "text = [\"My t-shirt looks very cool, and trousers are really awesome\"]\n",
    "tranformed_text = load_vect.transform(text)"
   ]
  },
  {
   "cell_type": "code",
   "execution_count": null,
   "id": "db74f41e-365a-441b-ab87-27dd609ab2b0",
   "metadata": {},
   "outputs": [],
   "source": [
    "load_svm.predict(tranformed_text)"
   ]
  },
  {
   "cell_type": "code",
   "execution_count": null,
   "id": "c160ca94-881e-4b2c-80c8-917c2d4ed2c4",
   "metadata": {},
   "outputs": [],
   "source": [
    "import spark"
   ]
  }
 ],
 "metadata": {
  "kernelspec": {
   "display_name": "Python 3 (ipykernel)",
   "language": "python",
   "name": "python3"
  },
  "language_info": {
   "codemirror_mode": {
    "name": "ipython",
    "version": 3
   },
   "file_extension": ".py",
   "mimetype": "text/x-python",
   "name": "python",
   "nbconvert_exporter": "python",
   "pygments_lexer": "ipython3",
   "version": "3.13.5"
  }
 },
 "nbformat": 4,
 "nbformat_minor": 5
}
